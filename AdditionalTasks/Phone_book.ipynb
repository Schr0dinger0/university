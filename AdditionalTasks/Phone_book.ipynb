{
  "nbformat": 4,
  "nbformat_minor": 0,
  "metadata": {
    "colab": {
      "provenance": [],
      "authorship_tag": "ABX9TyPX27/HUfiRhoJ9hwKC8kaw",
      "include_colab_link": true
    },
    "kernelspec": {
      "name": "python3",
      "display_name": "Python 3"
    },
    "language_info": {
      "name": "python"
    }
  },
  "cells": [
    {
      "cell_type": "markdown",
      "metadata": {
        "id": "view-in-github",
        "colab_type": "text"
      },
      "source": [
        "<a href=\"https://colab.research.google.com/github/Schr0dinger0/university/blob/main/AdditionalTasks/Phone_book.ipynb\" target=\"_parent\"><img src=\"https://colab.research.google.com/assets/colab-badge.svg\" alt=\"Open In Colab\"/></a>"
      ]
    },
    {
      "cell_type": "code",
      "execution_count": null,
      "metadata": {
        "id": "fhRjBUvFEDoo"
      },
      "outputs": [],
      "source": [
        "from ast import match_case\n",
        "from google.colab import output\n",
        "\n",
        "users = {}\n",
        "\n",
        "loop = True\n",
        "while loop:\n",
        "  output.clear()\n",
        "  print('Телефонная книга\\n\\n1.Добавить новый контакт\\n2.Удалить существующий контакт (по имени)\\n3.Посмотреть список контактов\\n4.Изменить номер контакта (по имени)')\n",
        "  action = input()\n",
        "  output.clear()\n",
        "  match action:\n",
        "\n",
        "\n",
        "    case '1'|'Добавить'|\"добавить\"|\"Добавить новый контакт\"|\"добавить новый контакт\":\n",
        "      name = input(\"Добавление контакта\\nВведите имя: \").title()\n",
        "      if name in users.keys():\n",
        "        input(\"Контакт уже существует!\")\n",
        "      else:\n",
        "        phone = input(\"Введите номер: \")\n",
        "        phone = phone.replace(' ','')\n",
        "        if len(phone)<=12 and len(phone)>=10 and not(any(c.isalpha() for c in phone)):\n",
        "          if phone[0] == '8':\n",
        "            phone = phone.replace('8','+7',1)\n",
        "          elif phone[0] == '9':\n",
        "            phone = phone.replace('9','+79',1)\n",
        "          users[name] = phone\n",
        "        else:\n",
        "          input('Недопустимый номер!')\n",
        "\n",
        "    case '2'|'Удалить'|\"удалить\"|\"Удалить существующий контакт\"|\"удалить существующий контакт\":\n",
        "      name = input(\"Введите имя контакта, который желаете удалить: \").title()\n",
        "      del users[name]\n",
        "\n",
        "\n",
        "    case '3'|'Посмотреть'|\"посмотреть\"|\"Список\"|\"список\"|\"Посмотреть список контактов\"|\"посмотреть список контактов\":\n",
        "      for key, data in users.items():\n",
        "        print(key, data)\n",
        "      input()\n",
        "\n",
        "\n",
        "    case '4'|'Изменить'|\"изменить\"|\"Изменить номер контакта\"|\"изменить номер контакта\":\n",
        "      name = input(\"Изменение контакта\\nВведите имя: \").title()\n",
        "      phone = input(\"Введите номер: \")\n",
        "      phone = phone.replace(' ','')\n",
        "      if len(phone)<=12 and len(phone)>=10 and not(any(c.isalpha() for c in phone)):\n",
        "        if phone[0] == '8':\n",
        "          phone = phone.replace('8','+7',1)\n",
        "        elif phone[0] == '9':\n",
        "          phone = phone.replace('9','+79',1)\n",
        "        users[name] = phone\n",
        "      else:\n",
        "        input('Недопустимый номер!')"
      ]
    },
    {
      "cell_type": "code",
      "source": [],
      "metadata": {
        "id": "WPOCBMo8E5Tn"
      },
      "execution_count": null,
      "outputs": []
    }
  ]
}
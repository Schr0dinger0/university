{
  "nbformat": 4,
  "nbformat_minor": 0,
  "metadata": {
    "colab": {
      "provenance": [],
      "authorship_tag": "ABX9TyO+fiE6Mt5IwXM2PdwrCNl3",
      "include_colab_link": true
    },
    "kernelspec": {
      "name": "python3",
      "display_name": "Python 3"
    },
    "language_info": {
      "name": "python"
    }
  },
  "cells": [
    {
      "cell_type": "markdown",
      "metadata": {
        "id": "view-in-github",
        "colab_type": "text"
      },
      "source": [
        "<a href=\"https://colab.research.google.com/github/Schr0dinger0/university/blob/main/AdditionalTasks/findNumber.ipynb\" target=\"_parent\"><img src=\"https://colab.research.google.com/assets/colab-badge.svg\" alt=\"Open In Colab\"/></a>"
      ]
    },
    {
      "cell_type": "code",
      "execution_count": null,
      "metadata": {
        "id": "fhRjBUvFEDoo"
      },
      "outputs": [],
      "source": [
        "import random\n",
        "number = random.randint(0,100)\n",
        "user_numb = input('компьютер загадал число!\\n как вы думаете, что это за число? ')\n",
        "tryes = 0\n",
        "if user_numb.isdigit():\n",
        "  while int(user_numb) != number:\n",
        "      if int(user_numb) > number:\n",
        "          print('загаданное число меньше вашего!')\n",
        "          tryes +=1\n",
        "      elif int(user_numb) < number:\n",
        "          print('загаданное число больше вашего!')\n",
        "          tryes +=1\n",
        "      else:\n",
        "          tryes+=1\n",
        "          break\n",
        "      user_numb = int(input('Попробуй еще!'))\n",
        "print('игра оконченна!\\n было загаданно',number,'ваши попытки:',tryes)"
      ]
    },
    {
      "cell_type": "code",
      "source": [],
      "metadata": {
        "id": "WPOCBMo8E5Tn"
      },
      "execution_count": null,
      "outputs": []
    }
  ]
}